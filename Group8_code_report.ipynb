{
 "cells": [
  {
   "cell_type": "markdown",
   "id": "741253a2",
   "metadata": {
    "id": "741253a2"
   },
   "source": [
    "###### BCIS 5110 – Programming for Business Analytics\n",
    "\n",
    "\n",
    "Final Project Group 8\n",
    "\n",
    "Submitted to: Prof. Dr. Nassim Sohaee\n",
    "Topic: Predicting Houses Prices\n",
    " \n",
    " \n",
    "Submitted by:\n",
    "    \n",
    "Aditi Randheliya – 11511011\n",
    "Jay Jani – 11549325\n",
    "Kimaya Koli – 11544166\n",
    "Siva Nagarjuna – 11553299\n",
    "Venkata Rami Reddy – 11525753\n"
   ]
  },
  {
   "cell_type": "markdown",
   "id": "6e41389b",
   "metadata": {
    "id": "6e41389b"
   },
   "source": [
    "###### Topic statement and data description\n",
    "The dataset has been taken from Kaggle.com\n",
    "https://www.kaggle.com/c/house-prices-advanced-regression-techniques\n",
    "The dataset has the details on different houses in the Ames town in Iowa State. There are a total of 1,461 records and 81 columns and null values. We have removed 5% of null values.\n",
    "\n",
    "###### A summary of data structure and what you hope to learn from the dataset.\n",
    "The Ames housing dataset looks at the characteristics of houses sold in Ames between 2006 and 2010. The purpose of the project is to forecast the sale values of the houses.This Analysis will help individuals/real-estate organisations to make more informed buying-selling trade decisions. We'll look at how to analyse the data using various Python libraries\n",
    "The columns and there data type are listed below\n",
    "\n",
    "Float   : 'LotFrontage', 'MasVnrArea', 'GarageYrBlt'\n",
    "\n",
    "Int     : 'Id', 'MSSubClass', 'LotArea', 'OverallQual', 'OverallCond', 'YearBuilt', 'YearRemodAdd', 'BsmtFinSF1', 'BsmtFinSF2', 'BsmtUnfSF', 'TotalBsmtSF', '1stFlrSF', '2ndFlrSF', 'LowQualFinSF', 'GrLivArea', 'BsmtFullBath', 'BsmtHalfBath', 'FullBath', 'HalfBath', 'BedroomAbvGr', 'KitchenAbvGr', 'TotRmsAbvGrd', 'Fireplaces', 'GarageCars', 'GarageArea', 'WoodDeckSF', 'OpenPorchSF', 'EnclosedPorch', '3SsnPorch', 'ScreenPorch', 'PoolArea', 'MiscVal', 'MoSold', 'YrSold', 'SalePrice'\n",
    "\n",
    "Object : 'MSZoning', 'Street', 'Alley', 'LotShape', 'LandContour', 'Utilities', 'LotConfig', 'LandSlope', 'Neighborhood', 'Condition1', 'Condition2', 'BldgType', 'HouseStyle', 'RoofStyle', 'RoofMatl', 'Exterior1st', 'Exterior2nd', 'MasVnrType', 'ExterQual', 'ExterCond', 'Foundation', 'BsmtQual', 'BsmtCond', 'BsmtExposure', 'BsmtFinType1', 'BsmtFinType2', 'Heating', 'HeatingQC', 'CentralAir', 'Electrical', 'KitchenQual', 'Functional', 'FireplaceQu', 'GarageType', 'GarageFinish', 'GarageQual', 'GarageCond', 'PavedDrive', 'PoolQC', 'Fence', 'MiscFeature', 'SaleType', 'SaleCondition'\n",
    "\n",
    "\n",
    "###### A description of the methods of investigation to answer your research questions.\n",
    "The dataset is about predicting housing prices.The dataset will assist us in determining how other features effect house sales prices. The following libraries and statistical methodologies will be used by our team.\n",
    "We have used 4 packages-\n",
    "Pandas: Used pandas for data manipulation and analysis. Pandas offers data structures and operations for manipulating numerical tables and time series data.\n",
    "Numpy: NumPy has been used for working with arrays. Numpy also has functions for working in the domain of linear algebra, fourier transform, and matrices.\n",
    "Matplotlib: Matplotlib is a cross-platform used for data visualisation and graphical plotting library for Python and its numerical extension NumPy.\n",
    "Seaborn: With this library we have visualised our data. It provides us options of plotting Statistical Charts such as strip plots, box plots, boxen plots6\n",
    "###### Correct and proper code (without errors) to answer the research questions.\n",
    "We have done data cleaning where removed columns with null values, dropping columns have 90% NA values. Built a heatmap to show correlation of different variables against saleprice.\n",
    "After data cleaning coading has been done for below 10 questions.\n",
    "1.To find the sale price of a house on the basis of the year in which it is built.\n",
    "2.To find the effect of types of garage on the median sale price of a houses.\n",
    "3.Comparing the median sale prices of 2 neighbourhoods Northridge and Timber. \n",
    "4.Identifying MS Subclass (which identifies the type of dwelling) Saleprice.\n",
    "5.How sale price is affecting with GR living area (Ground Level).\n",
    "6.Average sale price of houses with 3 bedrooms.\n",
    "7.Impact of pool area on sale price.\n",
    "8.Identify the maximum sale price for each category of the roof type.\n",
    "9.Popularity of central air conditioning.\n",
    "10.Determine the sale price based on the building type.\n",
    "11.\n"
   ]
  },
  {
   "cell_type": "markdown",
   "id": "8774f2f8",
   "metadata": {
    "id": "8774f2f8"
   },
   "source": [
    "###### Data Cleaning"
   ]
  },
  {
   "cell_type": "code",
   "execution_count": 1,
   "id": "71ee565e",
   "metadata": {
    "executionInfo": {
     "elapsed": 920,
     "status": "ok",
     "timestamp": 1650815369297,
     "user": {
      "displayName": "Kimaya Koli",
      "userId": "07915138673244825604"
     },
     "user_tz": 300
    },
    "id": "71ee565e"
   },
   "outputs": [],
   "source": [
    "import pandas as pd\n",
    "import numpy as np\n",
    "import matplotlib.pyplot as plt\n",
    "import seaborn as sns"
   ]
  },
  {
   "cell_type": "code",
   "execution_count": 7,
   "id": "cf349de7",
   "metadata": {
    "executionInfo": {
     "elapsed": 377,
     "status": "ok",
     "timestamp": 1650815397220,
     "user": {
      "displayName": "Kimaya Koli",
      "userId": "07915138673244825604"
     },
     "user_tz": 300
    },
    "id": "cf349de7"
   },
   "outputs": [
    {
     "ename": "FileNotFoundError",
     "evalue": "[Errno 2] No such file or directory: 'C:\\\\Users\\\\kolik\\\\Downloads\\\\train.csv'",
     "output_type": "error",
     "traceback": [
      "\u001b[1;31m---------------------------------------------------------------------------\u001b[0m",
      "\u001b[1;31mFileNotFoundError\u001b[0m                         Traceback (most recent call last)",
      "\u001b[1;32m~\\AppData\\Local\\Temp/ipykernel_28832/622532956.py\u001b[0m in \u001b[0;36m<module>\u001b[1;34m\u001b[0m\n\u001b[1;32m----> 1\u001b[1;33m \u001b[0mdf\u001b[0m \u001b[1;33m=\u001b[0m \u001b[0mpd\u001b[0m\u001b[1;33m.\u001b[0m\u001b[0mread_csv\u001b[0m\u001b[1;33m(\u001b[0m\u001b[1;34m'C:\\\\Users\\\\kolik\\\\Downloads\\\\train.csv'\u001b[0m\u001b[1;33m)\u001b[0m\u001b[1;33m\u001b[0m\u001b[1;33m\u001b[0m\u001b[0m\n\u001b[0m",
      "\u001b[1;32m~\\anaconda3\\lib\\site-packages\\pandas\\util\\_decorators.py\u001b[0m in \u001b[0;36mwrapper\u001b[1;34m(*args, **kwargs)\u001b[0m\n\u001b[0;32m    309\u001b[0m                     \u001b[0mstacklevel\u001b[0m\u001b[1;33m=\u001b[0m\u001b[0mstacklevel\u001b[0m\u001b[1;33m,\u001b[0m\u001b[1;33m\u001b[0m\u001b[1;33m\u001b[0m\u001b[0m\n\u001b[0;32m    310\u001b[0m                 )\n\u001b[1;32m--> 311\u001b[1;33m             \u001b[1;32mreturn\u001b[0m \u001b[0mfunc\u001b[0m\u001b[1;33m(\u001b[0m\u001b[1;33m*\u001b[0m\u001b[0margs\u001b[0m\u001b[1;33m,\u001b[0m \u001b[1;33m**\u001b[0m\u001b[0mkwargs\u001b[0m\u001b[1;33m)\u001b[0m\u001b[1;33m\u001b[0m\u001b[1;33m\u001b[0m\u001b[0m\n\u001b[0m\u001b[0;32m    312\u001b[0m \u001b[1;33m\u001b[0m\u001b[0m\n\u001b[0;32m    313\u001b[0m         \u001b[1;32mreturn\u001b[0m \u001b[0mwrapper\u001b[0m\u001b[1;33m\u001b[0m\u001b[1;33m\u001b[0m\u001b[0m\n",
      "\u001b[1;32m~\\anaconda3\\lib\\site-packages\\pandas\\io\\parsers\\readers.py\u001b[0m in \u001b[0;36mread_csv\u001b[1;34m(filepath_or_buffer, sep, delimiter, header, names, index_col, usecols, squeeze, prefix, mangle_dupe_cols, dtype, engine, converters, true_values, false_values, skipinitialspace, skiprows, skipfooter, nrows, na_values, keep_default_na, na_filter, verbose, skip_blank_lines, parse_dates, infer_datetime_format, keep_date_col, date_parser, dayfirst, cache_dates, iterator, chunksize, compression, thousands, decimal, lineterminator, quotechar, quoting, doublequote, escapechar, comment, encoding, encoding_errors, dialect, error_bad_lines, warn_bad_lines, on_bad_lines, delim_whitespace, low_memory, memory_map, float_precision, storage_options)\u001b[0m\n\u001b[0;32m    584\u001b[0m     \u001b[0mkwds\u001b[0m\u001b[1;33m.\u001b[0m\u001b[0mupdate\u001b[0m\u001b[1;33m(\u001b[0m\u001b[0mkwds_defaults\u001b[0m\u001b[1;33m)\u001b[0m\u001b[1;33m\u001b[0m\u001b[1;33m\u001b[0m\u001b[0m\n\u001b[0;32m    585\u001b[0m \u001b[1;33m\u001b[0m\u001b[0m\n\u001b[1;32m--> 586\u001b[1;33m     \u001b[1;32mreturn\u001b[0m \u001b[0m_read\u001b[0m\u001b[1;33m(\u001b[0m\u001b[0mfilepath_or_buffer\u001b[0m\u001b[1;33m,\u001b[0m \u001b[0mkwds\u001b[0m\u001b[1;33m)\u001b[0m\u001b[1;33m\u001b[0m\u001b[1;33m\u001b[0m\u001b[0m\n\u001b[0m\u001b[0;32m    587\u001b[0m \u001b[1;33m\u001b[0m\u001b[0m\n\u001b[0;32m    588\u001b[0m \u001b[1;33m\u001b[0m\u001b[0m\n",
      "\u001b[1;32m~\\anaconda3\\lib\\site-packages\\pandas\\io\\parsers\\readers.py\u001b[0m in \u001b[0;36m_read\u001b[1;34m(filepath_or_buffer, kwds)\u001b[0m\n\u001b[0;32m    480\u001b[0m \u001b[1;33m\u001b[0m\u001b[0m\n\u001b[0;32m    481\u001b[0m     \u001b[1;31m# Create the parser.\u001b[0m\u001b[1;33m\u001b[0m\u001b[1;33m\u001b[0m\u001b[0m\n\u001b[1;32m--> 482\u001b[1;33m     \u001b[0mparser\u001b[0m \u001b[1;33m=\u001b[0m \u001b[0mTextFileReader\u001b[0m\u001b[1;33m(\u001b[0m\u001b[0mfilepath_or_buffer\u001b[0m\u001b[1;33m,\u001b[0m \u001b[1;33m**\u001b[0m\u001b[0mkwds\u001b[0m\u001b[1;33m)\u001b[0m\u001b[1;33m\u001b[0m\u001b[1;33m\u001b[0m\u001b[0m\n\u001b[0m\u001b[0;32m    483\u001b[0m \u001b[1;33m\u001b[0m\u001b[0m\n\u001b[0;32m    484\u001b[0m     \u001b[1;32mif\u001b[0m \u001b[0mchunksize\u001b[0m \u001b[1;32mor\u001b[0m \u001b[0miterator\u001b[0m\u001b[1;33m:\u001b[0m\u001b[1;33m\u001b[0m\u001b[1;33m\u001b[0m\u001b[0m\n",
      "\u001b[1;32m~\\anaconda3\\lib\\site-packages\\pandas\\io\\parsers\\readers.py\u001b[0m in \u001b[0;36m__init__\u001b[1;34m(self, f, engine, **kwds)\u001b[0m\n\u001b[0;32m    809\u001b[0m             \u001b[0mself\u001b[0m\u001b[1;33m.\u001b[0m\u001b[0moptions\u001b[0m\u001b[1;33m[\u001b[0m\u001b[1;34m\"has_index_names\"\u001b[0m\u001b[1;33m]\u001b[0m \u001b[1;33m=\u001b[0m \u001b[0mkwds\u001b[0m\u001b[1;33m[\u001b[0m\u001b[1;34m\"has_index_names\"\u001b[0m\u001b[1;33m]\u001b[0m\u001b[1;33m\u001b[0m\u001b[1;33m\u001b[0m\u001b[0m\n\u001b[0;32m    810\u001b[0m \u001b[1;33m\u001b[0m\u001b[0m\n\u001b[1;32m--> 811\u001b[1;33m         \u001b[0mself\u001b[0m\u001b[1;33m.\u001b[0m\u001b[0m_engine\u001b[0m \u001b[1;33m=\u001b[0m \u001b[0mself\u001b[0m\u001b[1;33m.\u001b[0m\u001b[0m_make_engine\u001b[0m\u001b[1;33m(\u001b[0m\u001b[0mself\u001b[0m\u001b[1;33m.\u001b[0m\u001b[0mengine\u001b[0m\u001b[1;33m)\u001b[0m\u001b[1;33m\u001b[0m\u001b[1;33m\u001b[0m\u001b[0m\n\u001b[0m\u001b[0;32m    812\u001b[0m \u001b[1;33m\u001b[0m\u001b[0m\n\u001b[0;32m    813\u001b[0m     \u001b[1;32mdef\u001b[0m \u001b[0mclose\u001b[0m\u001b[1;33m(\u001b[0m\u001b[0mself\u001b[0m\u001b[1;33m)\u001b[0m\u001b[1;33m:\u001b[0m\u001b[1;33m\u001b[0m\u001b[1;33m\u001b[0m\u001b[0m\n",
      "\u001b[1;32m~\\anaconda3\\lib\\site-packages\\pandas\\io\\parsers\\readers.py\u001b[0m in \u001b[0;36m_make_engine\u001b[1;34m(self, engine)\u001b[0m\n\u001b[0;32m   1038\u001b[0m             )\n\u001b[0;32m   1039\u001b[0m         \u001b[1;31m# error: Too many arguments for \"ParserBase\"\u001b[0m\u001b[1;33m\u001b[0m\u001b[1;33m\u001b[0m\u001b[0m\n\u001b[1;32m-> 1040\u001b[1;33m         \u001b[1;32mreturn\u001b[0m \u001b[0mmapping\u001b[0m\u001b[1;33m[\u001b[0m\u001b[0mengine\u001b[0m\u001b[1;33m]\u001b[0m\u001b[1;33m(\u001b[0m\u001b[0mself\u001b[0m\u001b[1;33m.\u001b[0m\u001b[0mf\u001b[0m\u001b[1;33m,\u001b[0m \u001b[1;33m**\u001b[0m\u001b[0mself\u001b[0m\u001b[1;33m.\u001b[0m\u001b[0moptions\u001b[0m\u001b[1;33m)\u001b[0m  \u001b[1;31m# type: ignore[call-arg]\u001b[0m\u001b[1;33m\u001b[0m\u001b[1;33m\u001b[0m\u001b[0m\n\u001b[0m\u001b[0;32m   1041\u001b[0m \u001b[1;33m\u001b[0m\u001b[0m\n\u001b[0;32m   1042\u001b[0m     \u001b[1;32mdef\u001b[0m \u001b[0m_failover_to_python\u001b[0m\u001b[1;33m(\u001b[0m\u001b[0mself\u001b[0m\u001b[1;33m)\u001b[0m\u001b[1;33m:\u001b[0m\u001b[1;33m\u001b[0m\u001b[1;33m\u001b[0m\u001b[0m\n",
      "\u001b[1;32m~\\anaconda3\\lib\\site-packages\\pandas\\io\\parsers\\c_parser_wrapper.py\u001b[0m in \u001b[0;36m__init__\u001b[1;34m(self, src, **kwds)\u001b[0m\n\u001b[0;32m     49\u001b[0m \u001b[1;33m\u001b[0m\u001b[0m\n\u001b[0;32m     50\u001b[0m         \u001b[1;31m# open handles\u001b[0m\u001b[1;33m\u001b[0m\u001b[1;33m\u001b[0m\u001b[0m\n\u001b[1;32m---> 51\u001b[1;33m         \u001b[0mself\u001b[0m\u001b[1;33m.\u001b[0m\u001b[0m_open_handles\u001b[0m\u001b[1;33m(\u001b[0m\u001b[0msrc\u001b[0m\u001b[1;33m,\u001b[0m \u001b[0mkwds\u001b[0m\u001b[1;33m)\u001b[0m\u001b[1;33m\u001b[0m\u001b[1;33m\u001b[0m\u001b[0m\n\u001b[0m\u001b[0;32m     52\u001b[0m         \u001b[1;32massert\u001b[0m \u001b[0mself\u001b[0m\u001b[1;33m.\u001b[0m\u001b[0mhandles\u001b[0m \u001b[1;32mis\u001b[0m \u001b[1;32mnot\u001b[0m \u001b[1;32mNone\u001b[0m\u001b[1;33m\u001b[0m\u001b[1;33m\u001b[0m\u001b[0m\n\u001b[0;32m     53\u001b[0m \u001b[1;33m\u001b[0m\u001b[0m\n",
      "\u001b[1;32m~\\anaconda3\\lib\\site-packages\\pandas\\io\\parsers\\base_parser.py\u001b[0m in \u001b[0;36m_open_handles\u001b[1;34m(self, src, kwds)\u001b[0m\n\u001b[0;32m    220\u001b[0m         \u001b[0mLet\u001b[0m \u001b[0mthe\u001b[0m \u001b[0mreaders\u001b[0m \u001b[0mopen\u001b[0m \u001b[0mIOHandles\u001b[0m \u001b[0mafter\u001b[0m \u001b[0mthey\u001b[0m \u001b[0mare\u001b[0m \u001b[0mdone\u001b[0m \u001b[1;32mwith\u001b[0m \u001b[0mtheir\u001b[0m \u001b[0mpotential\u001b[0m \u001b[0mraises\u001b[0m\u001b[1;33m.\u001b[0m\u001b[1;33m\u001b[0m\u001b[1;33m\u001b[0m\u001b[0m\n\u001b[0;32m    221\u001b[0m         \"\"\"\n\u001b[1;32m--> 222\u001b[1;33m         self.handles = get_handle(\n\u001b[0m\u001b[0;32m    223\u001b[0m             \u001b[0msrc\u001b[0m\u001b[1;33m,\u001b[0m\u001b[1;33m\u001b[0m\u001b[1;33m\u001b[0m\u001b[0m\n\u001b[0;32m    224\u001b[0m             \u001b[1;34m\"r\"\u001b[0m\u001b[1;33m,\u001b[0m\u001b[1;33m\u001b[0m\u001b[1;33m\u001b[0m\u001b[0m\n",
      "\u001b[1;32m~\\anaconda3\\lib\\site-packages\\pandas\\io\\common.py\u001b[0m in \u001b[0;36mget_handle\u001b[1;34m(path_or_buf, mode, encoding, compression, memory_map, is_text, errors, storage_options)\u001b[0m\n\u001b[0;32m    700\u001b[0m         \u001b[1;32mif\u001b[0m \u001b[0mioargs\u001b[0m\u001b[1;33m.\u001b[0m\u001b[0mencoding\u001b[0m \u001b[1;32mand\u001b[0m \u001b[1;34m\"b\"\u001b[0m \u001b[1;32mnot\u001b[0m \u001b[1;32min\u001b[0m \u001b[0mioargs\u001b[0m\u001b[1;33m.\u001b[0m\u001b[0mmode\u001b[0m\u001b[1;33m:\u001b[0m\u001b[1;33m\u001b[0m\u001b[1;33m\u001b[0m\u001b[0m\n\u001b[0;32m    701\u001b[0m             \u001b[1;31m# Encoding\u001b[0m\u001b[1;33m\u001b[0m\u001b[1;33m\u001b[0m\u001b[0m\n\u001b[1;32m--> 702\u001b[1;33m             handle = open(\n\u001b[0m\u001b[0;32m    703\u001b[0m                 \u001b[0mhandle\u001b[0m\u001b[1;33m,\u001b[0m\u001b[1;33m\u001b[0m\u001b[1;33m\u001b[0m\u001b[0m\n\u001b[0;32m    704\u001b[0m                 \u001b[0mioargs\u001b[0m\u001b[1;33m.\u001b[0m\u001b[0mmode\u001b[0m\u001b[1;33m,\u001b[0m\u001b[1;33m\u001b[0m\u001b[1;33m\u001b[0m\u001b[0m\n",
      "\u001b[1;31mFileNotFoundError\u001b[0m: [Errno 2] No such file or directory: 'C:\\\\Users\\\\kolik\\\\Downloads\\\\train.csv'"
     ]
    }
   ],
   "source": [
    "df = pd.read_csv('C:\\\\Users\\\\kolik\\\\Downloads\\\\train.csv')"
   ]
  },
  {
   "cell_type": "code",
   "execution_count": 19,
   "id": "e6d52ccc",
   "metadata": {
    "colab": {
     "base_uri": "https://localhost:8080/",
     "height": 299
    },
    "executionInfo": {
     "elapsed": 185,
     "status": "ok",
     "timestamp": 1650755821397,
     "user": {
      "displayName": "Kimaya Koli",
      "userId": "07915138673244825604"
     },
     "user_tz": 300
    },
    "id": "e6d52ccc",
    "outputId": "bd0d6a8e-0378-4e26-fe46-2493bd9a0a01"
   },
   "outputs": [
    {
     "data": {
      "text/html": [
       "<div>\n",
       "<style scoped>\n",
       "    .dataframe tbody tr th:only-of-type {\n",
       "        vertical-align: middle;\n",
       "    }\n",
       "\n",
       "    .dataframe tbody tr th {\n",
       "        vertical-align: top;\n",
       "    }\n",
       "\n",
       "    .dataframe thead th {\n",
       "        text-align: right;\n",
       "    }\n",
       "</style>\n",
       "<table border=\"1\" class=\"dataframe\">\n",
       "  <thead>\n",
       "    <tr style=\"text-align: right;\">\n",
       "      <th></th>\n",
       "      <th>Id</th>\n",
       "      <th>MSSubClass</th>\n",
       "      <th>MSZoning</th>\n",
       "      <th>LotFrontage</th>\n",
       "      <th>LotArea</th>\n",
       "      <th>Street</th>\n",
       "      <th>Alley</th>\n",
       "      <th>LotShape</th>\n",
       "      <th>LandContour</th>\n",
       "      <th>Utilities</th>\n",
       "      <th>...</th>\n",
       "      <th>PoolArea</th>\n",
       "      <th>PoolQC</th>\n",
       "      <th>Fence</th>\n",
       "      <th>MiscFeature</th>\n",
       "      <th>MiscVal</th>\n",
       "      <th>MoSold</th>\n",
       "      <th>YrSold</th>\n",
       "      <th>SaleType</th>\n",
       "      <th>SaleCondition</th>\n",
       "      <th>SalePrice</th>\n",
       "    </tr>\n",
       "  </thead>\n",
       "  <tbody>\n",
       "    <tr>\n",
       "      <th>0</th>\n",
       "      <td>1</td>\n",
       "      <td>60</td>\n",
       "      <td>RL</td>\n",
       "      <td>65.0</td>\n",
       "      <td>8450</td>\n",
       "      <td>Pave</td>\n",
       "      <td>NaN</td>\n",
       "      <td>Reg</td>\n",
       "      <td>Lvl</td>\n",
       "      <td>AllPub</td>\n",
       "      <td>...</td>\n",
       "      <td>0</td>\n",
       "      <td>NaN</td>\n",
       "      <td>NaN</td>\n",
       "      <td>NaN</td>\n",
       "      <td>0</td>\n",
       "      <td>2</td>\n",
       "      <td>2008</td>\n",
       "      <td>WD</td>\n",
       "      <td>Normal</td>\n",
       "      <td>208500</td>\n",
       "    </tr>\n",
       "    <tr>\n",
       "      <th>1</th>\n",
       "      <td>2</td>\n",
       "      <td>20</td>\n",
       "      <td>RL</td>\n",
       "      <td>80.0</td>\n",
       "      <td>9600</td>\n",
       "      <td>Pave</td>\n",
       "      <td>NaN</td>\n",
       "      <td>Reg</td>\n",
       "      <td>Lvl</td>\n",
       "      <td>AllPub</td>\n",
       "      <td>...</td>\n",
       "      <td>0</td>\n",
       "      <td>NaN</td>\n",
       "      <td>NaN</td>\n",
       "      <td>NaN</td>\n",
       "      <td>0</td>\n",
       "      <td>5</td>\n",
       "      <td>2007</td>\n",
       "      <td>WD</td>\n",
       "      <td>Normal</td>\n",
       "      <td>181500</td>\n",
       "    </tr>\n",
       "    <tr>\n",
       "      <th>2</th>\n",
       "      <td>3</td>\n",
       "      <td>60</td>\n",
       "      <td>RL</td>\n",
       "      <td>68.0</td>\n",
       "      <td>11250</td>\n",
       "      <td>Pave</td>\n",
       "      <td>NaN</td>\n",
       "      <td>IR1</td>\n",
       "      <td>Lvl</td>\n",
       "      <td>AllPub</td>\n",
       "      <td>...</td>\n",
       "      <td>0</td>\n",
       "      <td>NaN</td>\n",
       "      <td>NaN</td>\n",
       "      <td>NaN</td>\n",
       "      <td>0</td>\n",
       "      <td>9</td>\n",
       "      <td>2008</td>\n",
       "      <td>WD</td>\n",
       "      <td>Normal</td>\n",
       "      <td>223500</td>\n",
       "    </tr>\n",
       "    <tr>\n",
       "      <th>3</th>\n",
       "      <td>4</td>\n",
       "      <td>70</td>\n",
       "      <td>RL</td>\n",
       "      <td>60.0</td>\n",
       "      <td>9550</td>\n",
       "      <td>Pave</td>\n",
       "      <td>NaN</td>\n",
       "      <td>IR1</td>\n",
       "      <td>Lvl</td>\n",
       "      <td>AllPub</td>\n",
       "      <td>...</td>\n",
       "      <td>0</td>\n",
       "      <td>NaN</td>\n",
       "      <td>NaN</td>\n",
       "      <td>NaN</td>\n",
       "      <td>0</td>\n",
       "      <td>2</td>\n",
       "      <td>2006</td>\n",
       "      <td>WD</td>\n",
       "      <td>Abnorml</td>\n",
       "      <td>140000</td>\n",
       "    </tr>\n",
       "    <tr>\n",
       "      <th>4</th>\n",
       "      <td>5</td>\n",
       "      <td>60</td>\n",
       "      <td>RL</td>\n",
       "      <td>84.0</td>\n",
       "      <td>14260</td>\n",
       "      <td>Pave</td>\n",
       "      <td>NaN</td>\n",
       "      <td>IR1</td>\n",
       "      <td>Lvl</td>\n",
       "      <td>AllPub</td>\n",
       "      <td>...</td>\n",
       "      <td>0</td>\n",
       "      <td>NaN</td>\n",
       "      <td>NaN</td>\n",
       "      <td>NaN</td>\n",
       "      <td>0</td>\n",
       "      <td>12</td>\n",
       "      <td>2008</td>\n",
       "      <td>WD</td>\n",
       "      <td>Normal</td>\n",
       "      <td>250000</td>\n",
       "    </tr>\n",
       "  </tbody>\n",
       "</table>\n",
       "<p>5 rows × 81 columns</p>\n",
       "</div>"
      ],
      "text/plain": [
       "   Id  MSSubClass MSZoning  LotFrontage  LotArea Street Alley LotShape  \\\n",
       "0   1          60       RL         65.0     8450   Pave   NaN      Reg   \n",
       "1   2          20       RL         80.0     9600   Pave   NaN      Reg   \n",
       "2   3          60       RL         68.0    11250   Pave   NaN      IR1   \n",
       "3   4          70       RL         60.0     9550   Pave   NaN      IR1   \n",
       "4   5          60       RL         84.0    14260   Pave   NaN      IR1   \n",
       "\n",
       "  LandContour Utilities  ... PoolArea PoolQC Fence MiscFeature MiscVal MoSold  \\\n",
       "0         Lvl    AllPub  ...        0    NaN   NaN         NaN       0      2   \n",
       "1         Lvl    AllPub  ...        0    NaN   NaN         NaN       0      5   \n",
       "2         Lvl    AllPub  ...        0    NaN   NaN         NaN       0      9   \n",
       "3         Lvl    AllPub  ...        0    NaN   NaN         NaN       0      2   \n",
       "4         Lvl    AllPub  ...        0    NaN   NaN         NaN       0     12   \n",
       "\n",
       "  YrSold  SaleType  SaleCondition  SalePrice  \n",
       "0   2008        WD         Normal     208500  \n",
       "1   2007        WD         Normal     181500  \n",
       "2   2008        WD         Normal     223500  \n",
       "3   2006        WD        Abnorml     140000  \n",
       "4   2008        WD         Normal     250000  \n",
       "\n",
       "[5 rows x 81 columns]"
      ]
     },
     "execution_count": 19,
     "metadata": {},
     "output_type": "execute_result"
    }
   ],
   "source": [
    "df.head() #Printing top 5 rows"
   ]
  },
  {
   "cell_type": "markdown",
   "id": "MT3A-JDZN_CZ",
   "metadata": {
    "id": "MT3A-JDZN_CZ"
   },
   "source": [
    "##DATA CLEANING "
   ]
  },
  {
   "cell_type": "code",
   "execution_count": 20,
   "id": "b60418ef",
   "metadata": {
    "colab": {
     "base_uri": "https://localhost:8080/"
    },
    "executionInfo": {
     "elapsed": 214,
     "status": "ok",
     "timestamp": 1650815403399,
     "user": {
      "displayName": "Kimaya Koli",
      "userId": "07915138673244825604"
     },
     "user_tz": 300
    },
    "id": "b60418ef",
    "outputId": "694e7e8b-e3cc-44b0-9518-f9431b11c118",
    "scrolled": true
   },
   "outputs": [
    {
     "data": {
      "text/plain": [
       "Id                 0\n",
       "MSSubClass         0\n",
       "MSZoning           0\n",
       "LotFrontage      259\n",
       "LotArea            0\n",
       "                ... \n",
       "MoSold             0\n",
       "YrSold             0\n",
       "SaleType           0\n",
       "SaleCondition      0\n",
       "SalePrice          0\n",
       "Length: 81, dtype: int64"
      ]
     },
     "execution_count": 20,
     "metadata": {},
     "output_type": "execute_result"
    }
   ],
   "source": [
    "df.isna().sum() #Detecting missing values and taking sum of them."
   ]
  },
  {
   "cell_type": "code",
   "execution_count": 21,
   "id": "624402b4",
   "metadata": {
    "colab": {
     "base_uri": "https://localhost:8080/"
    },
    "executionInfo": {
     "elapsed": 170,
     "status": "ok",
     "timestamp": 1650815405705,
     "user": {
      "displayName": "Kimaya Koli",
      "userId": "07915138673244825604"
     },
     "user_tz": 300
    },
    "id": "624402b4",
    "outputId": "44c8e5f8-ffea-4780-eca3-160190bea63b"
   },
   "outputs": [
    {
     "data": {
      "text/plain": [
       "(1460, 81)"
      ]
     },
     "execution_count": 21,
     "metadata": {},
     "output_type": "execute_result"
    }
   ],
   "source": [
    "df.shape #Number of rows and columns in the dataset"
   ]
  },
  {
   "cell_type": "code",
   "execution_count": 22,
   "id": "44d2c177",
   "metadata": {
    "executionInfo": {
     "elapsed": 190,
     "status": "ok",
     "timestamp": 1650815418449,
     "user": {
      "displayName": "Kimaya Koli",
      "userId": "07915138673244825604"
     },
     "user_tz": 300
    },
    "id": "44d2c177"
   },
   "outputs": [],
   "source": [
    "data = df.dropna(axis = 1, thresh = len(df) - 0.1*len(df)) # if there are more than 90% NA values, drop the column"
   ]
  },
  {
   "cell_type": "code",
   "execution_count": 23,
   "id": "795ee0a8",
   "metadata": {
    "colab": {
     "base_uri": "https://localhost:8080/"
    },
    "executionInfo": {
     "elapsed": 164,
     "status": "ok",
     "timestamp": 1650815421431,
     "user": {
      "displayName": "Kimaya Koli",
      "userId": "07915138673244825604"
     },
     "user_tz": 300
    },
    "id": "795ee0a8",
    "outputId": "4dff952c-e83e-4261-e23f-b36088c3e3f7"
   },
   "outputs": [
    {
     "data": {
      "text/plain": [
       "(1460, 75)"
      ]
     },
     "execution_count": 23,
     "metadata": {},
     "output_type": "execute_result"
    }
   ],
   "source": [
    "data.shape # new count of records after dropping columns"
   ]
  },
  {
   "cell_type": "code",
   "execution_count": 24,
   "id": "bc039c16",
   "metadata": {
    "colab": {
     "base_uri": "https://localhost:8080/"
    },
    "executionInfo": {
     "elapsed": 170,
     "status": "ok",
     "timestamp": 1650815435207,
     "user": {
      "displayName": "Kimaya Koli",
      "userId": "07915138673244825604"
     },
     "user_tz": 300
    },
    "id": "bc039c16",
    "outputId": "dc678293-9f5e-4946-d458-839092cbe9d8",
    "scrolled": false
   },
   "outputs": [
    {
     "data": {
      "text/plain": [
       "Id               0\n",
       "MSSubClass       0\n",
       "MSZoning         0\n",
       "LotArea          0\n",
       "Street           0\n",
       "                ..\n",
       "MoSold           0\n",
       "YrSold           0\n",
       "SaleType         0\n",
       "SaleCondition    0\n",
       "SalePrice        0\n",
       "Length: 75, dtype: int64"
      ]
     },
     "execution_count": 24,
     "metadata": {},
     "output_type": "execute_result"
    }
   ],
   "source": [
    "data.isna().sum() #Detecting missing values and taking sum of them after column drop."
   ]
  },
  {
   "cell_type": "code",
   "execution_count": 25,
   "id": "0ac7aace",
   "metadata": {
    "executionInfo": {
     "elapsed": 208,
     "status": "ok",
     "timestamp": 1650815437696,
     "user": {
      "displayName": "Kimaya Koli",
      "userId": "07915138673244825604"
     },
     "user_tz": 300
    },
    "id": "0ac7aace"
   },
   "outputs": [],
   "source": [
    "num_features = list(data.select_dtypes(include = 'number').columns)"
   ]
  },
  {
   "cell_type": "code",
   "execution_count": 26,
   "id": "c7671a8a",
   "metadata": {
    "colab": {
     "base_uri": "https://localhost:8080/"
    },
    "executionInfo": {
     "elapsed": 173,
     "status": "ok",
     "timestamp": 1650815443861,
     "user": {
      "displayName": "Kimaya Koli",
      "userId": "07915138673244825604"
     },
     "user_tz": 300
    },
    "id": "c7671a8a",
    "outputId": "2d53886f-ff09-45a7-c3aa-941c1a1fbf51"
   },
   "outputs": [
    {
     "data": {
      "text/plain": [
       "['Id',\n",
       " 'MSSubClass',\n",
       " 'LotArea',\n",
       " 'OverallQual',\n",
       " 'OverallCond',\n",
       " 'YearBuilt',\n",
       " 'YearRemodAdd',\n",
       " 'MasVnrArea',\n",
       " 'BsmtFinSF1',\n",
       " 'BsmtFinSF2',\n",
       " 'BsmtUnfSF',\n",
       " 'TotalBsmtSF',\n",
       " '1stFlrSF',\n",
       " '2ndFlrSF',\n",
       " 'LowQualFinSF',\n",
       " 'GrLivArea',\n",
       " 'BsmtFullBath',\n",
       " 'BsmtHalfBath',\n",
       " 'FullBath',\n",
       " 'HalfBath',\n",
       " 'BedroomAbvGr',\n",
       " 'KitchenAbvGr',\n",
       " 'TotRmsAbvGrd',\n",
       " 'Fireplaces',\n",
       " 'GarageYrBlt',\n",
       " 'GarageCars',\n",
       " 'GarageArea',\n",
       " 'WoodDeckSF',\n",
       " 'OpenPorchSF',\n",
       " 'EnclosedPorch',\n",
       " '3SsnPorch',\n",
       " 'ScreenPorch',\n",
       " 'PoolArea',\n",
       " 'MiscVal',\n",
       " 'MoSold',\n",
       " 'YrSold',\n",
       " 'SalePrice']"
      ]
     },
     "execution_count": 26,
     "metadata": {},
     "output_type": "execute_result"
    }
   ],
   "source": [
    "num_features"
   ]
  },
  {
   "cell_type": "code",
   "execution_count": 27,
   "id": "ae819bc5",
   "metadata": {
    "colab": {
     "base_uri": "https://localhost:8080/"
    },
    "executionInfo": {
     "elapsed": 209,
     "status": "ok",
     "timestamp": 1650815450504,
     "user": {
      "displayName": "Kimaya Koli",
      "userId": "07915138673244825604"
     },
     "user_tz": 300
    },
    "id": "ae819bc5",
    "outputId": "d4ea2af2-201e-463a-9661-50737762a6c3"
   },
   "outputs": [
    {
     "name": "stderr",
     "output_type": "stream",
     "text": [
      "C:\\Users\\kolik\\anaconda3\\lib\\site-packages\\pandas\\core\\generic.py:6392: SettingWithCopyWarning: \n",
      "A value is trying to be set on a copy of a slice from a DataFrame\n",
      "\n",
      "See the caveats in the documentation: https://pandas.pydata.org/pandas-docs/stable/user_guide/indexing.html#returning-a-view-versus-a-copy\n",
      "  return self._update_inplace(result)\n"
     ]
    }
   ],
   "source": [
    "for i in num_features:\n",
    "    data[i].fillna(value = data[i].mean(), inplace = True) # storing Na value and filling the null values with mean"
   ]
  },
  {
   "cell_type": "code",
   "execution_count": 28,
   "id": "3c7160c3",
   "metadata": {
    "colab": {
     "base_uri": "https://localhost:8080/",
     "height": 787
    },
    "executionInfo": {
     "elapsed": 1295,
     "status": "ok",
     "timestamp": 1650815454392,
     "user": {
      "displayName": "Kimaya Koli",
      "userId": "07915138673244825604"
     },
     "user_tz": 300
    },
    "id": "3c7160c3",
    "outputId": "e488d794-67d1-48df-f35e-cf0c216bbe91",
    "scrolled": true
   },
   "outputs": [
    {
     "data": {
      "text/plain": [
       "<AxesSubplot:>"
      ]
     },
     "execution_count": 28,
     "metadata": {},
     "output_type": "execute_result"
    },
    {
     "data": {
      "image/png": "[encoded data removed]",
      "text/plain": [
       "<Figure size 864x864 with 2 Axes>"
      ]
     },
     "metadata": {
      "needs_background": "light"
     },
     "output_type": "display_data"
    }
   ],
   "source": [
    "plt.figure(figsize = (12,12))\n",
    "sns.heatmap(data.corr())         #Ploting heatmap to check the correlation of different varaibles."
   ]
  },
  {
   "cell_type": "markdown",
   "id": "4a3fd2e0",
   "metadata": {
    "id": "4a3fd2e0"
   },
   "source": [
    "\n",
    "\n",
    "```\n",
    "# This is formatted as code\n",
    "```\n",
    "\n",
    "#### Research Questions"
   ]
  },
  {
   "cell_type": "markdown",
   "id": "b4fj0zMNuFUb",
   "metadata": {
    "id": "b4fj0zMNuFUb"
   },
   "source": [
    "## Q.1. To find the sale price of a house on the basis of the year in which it \n",
    "\n",
    "  **Method:** To find the sale price w.r.t year built, we will be using groupby function of pandas on the year column to find the median sale price of houses. Group by refers to splitting our data, aggregating it in a given way (or ways), and re-combining the data in a meaningful way. <br>\n",
    "\n"
   ]
  },
  {
   "cell_type": "code",
   "execution_count": 29,
   "id": "218cc50d",
   "metadata": {
    "colab": {
     "base_uri": "https://localhost:8080/",
     "height": 298
    },
    "executionInfo": {
     "elapsed": 359,
     "status": "ok",
     "timestamp": 1650815467861,
     "user": {
      "displayName": "Kimaya Koli",
      "userId": "07915138673244825604"
     },
     "user_tz": 300
    },
    "id": "218cc50d",
    "outputId": "2d3ba0e7-11a6-4f4f-a660-f21931070ed0"
   },
   "outputs": [
    {
     "data": {
      "text/plain": [
       "[Text(0.5, 1.0, 'Fig 1')]"
      ]
     },
     "execution_count": 29,
     "metadata": {},
     "output_type": "execute_result"
    },
    {
     "data": {
      "image/png": "[encoded data removed]",
      "text/plain": [
       "<Figure size 432x288 with 1 Axes>"
      ]
     },
     "metadata": {
      "needs_background": "light"
     },
     "output_type": "display_data"
    }
   ],
   "source": [
    "q1 = data[['YearBuilt','SalePrice']]\n",
    "q1_1 = q1.groupby('YearBuilt').median()\n",
    "q1_1.sort_values(by='SalePrice')\n",
    "sns.lineplot(x=q1_1.index.values,y=q1_1['SalePrice'],data=q1_1).set(title='Fig 1')\n"
   ]
  },
  {
   "cell_type": "markdown",
   "id": "1H5opRRdvNn6",
   "metadata": {
    "id": "1H5opRRdvNn6"
   },
   "source": [
    "**Observation:**  The highest median price of houses are the ones built in year 2010. <br>Fig 1 displays the change over time in Sale price of houses, the line graph shows change in sale price in Ame's town between 1880 to 2000. It is evident from the graph that houses built after year 2000 sold for the high price than that of other years, Similar impact has been encountered for the houses which were built in 1990 where sale price is high."
   ]
  },
  {
   "cell_type": "markdown",
   "id": "uwBiy_IdvbbD",
   "metadata": {
    "id": "uwBiy_IdvbbD"
   },
   "source": [
    "## Q.2.  To find the effect of types of garage on the median sale price of a houses.\n",
    "\n",
    "  **Method:**  To find the sale price of houses on the basis of garage type, we will be \n",
    "  using median and groupby function.\n",
    "\n"
   ]
  },
  {
   "cell_type": "code",
   "execution_count": 30,
   "id": "689bb73b",
   "metadata": {
    "colab": {
     "base_uri": "https://localhost:8080/",
     "height": 298
    },
    "executionInfo": {
     "elapsed": 424,
     "status": "ok",
     "timestamp": 1650815476825,
     "user": {
      "displayName": "Kimaya Koli",
      "userId": "07915138673244825604"
     },
     "user_tz": 300
    },
    "id": "689bb73b",
    "outputId": "1e27cb81-3417-4f8b-a1d5-0e6d12a1b8df"
   },
   "outputs": [
    {
     "data": {
      "text/plain": [
       "[Text(0.5, 1.0, 'Fig 2')]"
      ]
     },
     "execution_count": 30,
     "metadata": {},
     "output_type": "execute_result"
    },
    {
     "data": {
      "image/png": "[encoded data removed]",
      "text/plain": [
       "<Figure size 432x288 with 1 Axes>"
      ]
     },
     "metadata": {
      "needs_background": "light"
     },
     "output_type": "display_data"
    }
   ],
   "source": [
    "#old question : To find the sale price of a house with and without a garage.\n",
    "q2 = data[['GarageType','SalePrice']].groupby('GarageType').median()            #Applied groupby and median function\n",
    "q2.sort_values(by='SalePrice',inplace=True)                                     #Sorting values in ascending order                                                \n",
    "sns.barplot(x=q2.index.values,y=q2['SalePrice'],data=q2).set(title='Fig 2')     #Seaborn library for boxplot"
   ]
  },
  {
   "cell_type": "markdown",
   "id": "AnasO6qIvv3m",
   "metadata": {
    "id": "AnasO6qIvv3m"
   },
   "source": [
    "**Observation:** Fig 2 Depicts how preference of garage is impacting sale price of houses, Builtin Garage is major attraction when buying a house in Ame's town followed by attached, 2types, basement and deattched respectively.:"
   ]
  },
  {
   "cell_type": "markdown",
   "id": "S2mfHbDowFor",
   "metadata": {
    "id": "S2mfHbDowFor"
   },
   "source": [
    "## Q.3.  Comparing the average sale prices of 2 neighbourhoods Northridge and Timber \n",
    "\n",
    "\n",
    "\n",
    "  **Method:** Using Lineplot to show house prices in two neighbourhoods on basis of LotArea.Concatenated objects along the same axis."
   ]
  },
  {
   "cell_type": "code",
   "execution_count": 31,
   "id": "52bc488c",
   "metadata": {
    "colab": {
     "base_uri": "https://localhost:8080/",
     "height": 402
    },
    "executionInfo": {
     "elapsed": 493,
     "status": "ok",
     "timestamp": 1650815485393,
     "user": {
      "displayName": "Kimaya Koli",
      "userId": "07915138673244825604"
     },
     "user_tz": 300
    },
    "id": "52bc488c",
    "outputId": "3e53a02f-b74f-4828-c79a-8b6f02da422e"
   },
   "outputs": [
    {
     "name": "stderr",
     "output_type": "stream",
     "text": [
      "C:\\Users\\kolik\\AppData\\Local\\Temp/ipykernel_20364/679531143.py:6: UserWarning: Boolean Series key will be reindexed to match DataFrame index.\n",
      "  temp_df = pd.concat([data[data['Neighborhood'] == 'NoRidge'], data[data['Neighborhood'] == 'Timber'][data['LotArea'] < 100000]], ignore_index = True, sort = False)\n"
     ]
    },
    {
     "data": {
      "text/plain": [
       "[Text(0.5, 1.0, 'Fig 3')]"
      ]
     },
     "execution_count": 31,
     "metadata": {},
     "output_type": "execute_result"
    },
    {
     "data": {
      "image/png": "[encoded data removed]",
      "text/plain": [
       "<Figure size 1080x360 with 1 Axes>"
      ]
     },
     "metadata": {
      "needs_background": "light"
     },
     "output_type": "display_data"
    }
   ],
   "source": [
    "#3. Comparing the average sale prices of 2 neighbourhoods Northridge and Timber \n",
    "#Method: Using Lineplot to show house prices in two neighbourhoods on basis of LotArea.Concatenated objects along the same axis. \n",
    "#Observation: In all years NoRidge neighbourhood has greater SalePrice.\n",
    "\n",
    "plt.figure(figsize = (15,5))\n",
    "temp_df = pd.concat([data[data['Neighborhood'] == 'NoRidge'], data[data['Neighborhood'] == 'Timber'][data['LotArea'] < 100000]], ignore_index = True, sort = False)\n",
    "sns.lineplot(x = 'LotArea', y = 'SalePrice', data = temp_df, hue = 'Neighborhood').set(title='Fig 3')"
   ]
  },
  {
   "cell_type": "markdown",
   "id": "lReLrBw2y0t2",
   "metadata": {
    "id": "lReLrBw2y0t2"
   },
   "source": [
    "**Observation:** Fig 3 shows how preference of lot area varies accrding to neghbourhood. By taking into consideration two neighbourhoods i.e. Timber and NoRidge, People living in Timber prefers less Lot area that that of those who living in NoRidge"
   ]
  },
  {
   "cell_type": "markdown",
   "id": "w2r48Z3Fxszg",
   "metadata": {
    "id": "w2r48Z3Fxszg"
   },
   "source": [
    "## Q.4.  Identifying MS Subclass (which identifies the type of dwelling) Saleprice.\n",
    "\n",
    "**Method:**  Using Barplots to identify SalePrice of houses."
   ]
  },
  {
   "cell_type": "code",
   "execution_count": 32,
   "id": "635156a4",
   "metadata": {
    "colab": {
     "base_uri": "https://localhost:8080/",
     "height": 350
    },
    "executionInfo": {
     "elapsed": 849,
     "status": "ok",
     "timestamp": 1650815491817,
     "user": {
      "displayName": "Kimaya Koli",
      "userId": "07915138673244825604"
     },
     "user_tz": 300
    },
    "id": "635156a4",
    "outputId": "55567026-f336-40ca-fe5d-42d83486a24e"
   },
   "outputs": [
    {
     "data": {
      "image/png": "[encoded data removed]",
      "text/plain": [
       "<Figure size 720x360 with 1 Axes>"
      ]
     },
     "metadata": {
      "needs_background": "light"
     },
     "output_type": "display_data"
    }
   ],
   "source": [
    "#Old Question: To find how the sale price of the house varies with GarageArea, LotArea and YearBuilt.\n",
    "#4. New Question: Identifying MS Subclass (which identifies the type of dwelling) Saleprice.\n",
    "#        20\t1-STORY 1946 & NEWER ALL STYLES\n",
    "#        30\t1-STORY 1945 & OLDER\n",
    "#        40\t1-STORY W/FINISHED ATTIC ALL AGES\n",
    "#        45\t1-1/2 STORY - UNFINISHED ALL AGES\n",
    "#        50\t1-1/2 STORY FINISHED ALL AGES\n",
    "#        60\t2-STORY 1946 & NEWER\n",
    "#        70\t2-STORY 1945 & OLDER\n",
    "#        75\t2-1/2 STORY ALL AGES\n",
    "#        80\tSPLIT OR MULTI-LEVEL\n",
    "#        85\tSPLIT FOYER\n",
    "#        90\tDUPLEX - ALL STYLES AND AGES\n",
    "#       120\t1-STORY PUD (Planned Unit Development) - 1946 & NEWER\n",
    "#       150\t1-1/2 STORY PUD - ALL AGES\n",
    "#       160\t2-STORY PUD - 1946 & NEWER\n",
    "#       180\tPUD - MULTILEVEL - INCL SPLIT LEV/FOYER\n",
    "#       190\t2 FAMILY CONVERSION - ALL STYLES AND AGES\n",
    "\n",
    "#Method: Using Barplots to identify SalePrice of houses.\n",
    "#Observation: From the graph we can see houses having 60 classification i.e. 2-story 1946 & Newer have the highest saleprice.\n",
    "\n",
    "fig, ax = plt.subplots(figsize=(10,5))\n",
    "fig = sns.barplot(x='MSSubClass',y='SalePrice', data=df).set(title='Fig 4')"
   ]
  },
  {
   "cell_type": "markdown",
   "id": "c5FsZJqoxwHw",
   "metadata": {
    "id": "c5FsZJqoxwHw"
   },
   "source": [
    "**Observation:** from fig 4, it is clear that 2 story 1946 and newer apartment are most popular where as 1-STORY 1945 & OLDER are least popular as Sale price is encountered to be highest and lowest for respecting dwelling\n"
   ]
  },
  {
   "cell_type": "markdown",
   "id": "asnvkJ28xv5B",
   "metadata": {
    "id": "asnvkJ28xv5B"
   },
   "source": [
    "## Q.5.  How sale price is affecting with GR living area (Ground Level)\n",
    "\n",
    "**Method:**  Using scatter plot to make analysis. GrLivArea varaible used which has numbers in square feet."
   ]
  },
  {
   "cell_type": "code",
   "execution_count": 33,
   "id": "1f8e1745",
   "metadata": {
    "colab": {
     "base_uri": "https://localhost:8080/",
     "height": 295
    },
    "executionInfo": {
     "elapsed": 377,
     "status": "ok",
     "timestamp": 1650815498493,
     "user": {
      "displayName": "Kimaya Koli",
      "userId": "07915138673244825604"
     },
     "user_tz": 300
    },
    "id": "1f8e1745",
    "outputId": "bba6625f-d903-4ef8-f695-da128e35e793"
   },
   "outputs": [
    {
     "data": {
      "image/png": "[encoded data removed]",
      "text/plain": [
       "<Figure size 432x288 with 1 Axes>"
      ]
     },
     "metadata": {
      "needs_background": "light"
     },
     "output_type": "display_data"
    }
   ],
   "source": [
    "#Old Question:Impact of neighbourhood location on house prices.\n",
    "#5. New Question: How sale price is affecting with GR living area (Ground Level)\n",
    "#Method: Using scatter plot to make analysis. GrLivArea varaible used which has numbers in square feet.\n",
    "#Observation: Graph is more consolidated in area between 1000 and 2000 sq feet area. Maximum ground level houses are built in this area.Maximum saleprice is for houses having area 4500 sq feet. \n",
    "\n",
    "var = 'GrLivArea'\n",
    "data.plot.scatter(x=var, y='SalePrice', ylim=(0,800000)).set(title='Fig 5');"
   ]
  },
  {
   "cell_type": "markdown",
   "id": "DvluTa8gx0d-",
   "metadata": {
    "id": "DvluTa8gx0d-"
   },
   "source": [
    "**Observation:** It is Evident from the Fig 5 that ground living area of most of the houses are built in the range of 1000 to 2000 sq feet as sale price is lowest in this range.\n"
   ]
  },
  {
   "cell_type": "markdown",
   "id": "-zleudehx0Sk",
   "metadata": {
    "id": "-zleudehx0Sk"
   },
   "source": [
    "## Q.6.  Average sale price of houses with 3 bedrooms.\n",
    "\n",
    "**Method:**  Using Average function to find saleprice of 3 bedroom. Filtered BedroomAbvGr column with value equivalent to 3."
   ]
  },
  {
   "cell_type": "code",
   "execution_count": 34,
   "id": "7d417014",
   "metadata": {
    "colab": {
     "base_uri": "https://localhost:8080/"
    },
    "executionInfo": {
     "elapsed": 149,
     "status": "ok",
     "timestamp": 1650815504713,
     "user": {
      "displayName": "Kimaya Koli",
      "userId": "07915138673244825604"
     },
     "user_tz": 300
    },
    "id": "7d417014",
    "outputId": "a1796c51-7a11-4679-fce5-3987c2815fe9"
   },
   "outputs": [
    {
     "name": "stdout",
     "output_type": "stream",
     "text": [
      "Maximum Sale price is dataset is 755000\n",
      "Minimum Sale price in dataset is 34900\n",
      "The Average Sale Price of 3 Bedrooms is:  181056.87064676618\n"
     ]
    }
   ],
   "source": [
    "#6. Average sale price of houses with 3 bedrooms.\n",
    "#Method: Using Average function to find saleprice of 3 bedroom. Filtered BedroomAbvGr column with value equivalent to 3.\n",
    "#Observation: Average Sale Price of 3 Bedrooms is:  181056.87064676618\n",
    "column = df[\"SalePrice\"]\n",
    "max_value = column.max()\n",
    "print('Maximum Sale price is dataset is',max_value)\n",
    "min_value = column.min()\n",
    "print('Minimum Sale price in dataset is',min_value)\n",
    "print('The Average Sale Price of 3 Bedrooms is: ',df[df['BedroomAbvGr'] == 3]['SalePrice'].mean())"
   ]
  },
  {
   "cell_type": "markdown",
   "id": "Yjz9wTjuydts",
   "metadata": {
    "id": "Yjz9wTjuydts"
   },
   "source": [
    "**Observation:** The Average sale price for the apartment with 3 bedroom is 181056.87064676618 which falls under low-medium range as highest sale price in the dataset is 755000 where as lowest is 34900\n"
   ]
  },
  {
   "cell_type": "markdown",
   "id": "th6AHSBEydfJ",
   "metadata": {
    "id": "th6AHSBEydfJ"
   },
   "source": [
    "## Q.7.   Impact of pool area on sale price.\n",
    "\n",
    "**Method:**  Using Pairplot to show PoolArea. X axis has PoolArea and Y axis Saleprice.\n"
   ]
  },
  {
   "cell_type": "code",
   "execution_count": 35,
   "id": "e2a3e4dc",
   "metadata": {
    "colab": {
     "base_uri": "https://localhost:8080/",
     "height": 407
    },
    "executionInfo": {
     "elapsed": 501,
     "status": "ok",
     "timestamp": 1650815511331,
     "user": {
      "displayName": "Kimaya Koli",
      "userId": "07915138673244825604"
     },
     "user_tz": 300
    },
    "id": "e2a3e4dc",
    "outputId": "44663250-bcc9-47a6-9ac7-d249162ddd3b"
   },
   "outputs": [
    {
     "data": {
      "text/plain": [
       "<seaborn.axisgrid.PairGrid at 0x22d4357a1f0>"
      ]
     },
     "execution_count": 35,
     "metadata": {},
     "output_type": "execute_result"
    },
    {
     "data": {
      "image/png": "[encoded data removed]",
      "text/plain": [
       "<Figure size 360x360 with 1 Axes>"
      ]
     },
     "metadata": {
      "needs_background": "light"
     },
     "output_type": "display_data"
    }
   ],
   "source": [
    "#7. Impact of pool area on sale price.\n",
    "#Method: Uing Pairplot to show PoolArea. X axis has PoolArea and Y axis Saleprice. \n",
    "#Observation: Maximum SalePrice is for the houses having Poolarea around 560 Sq feet.\n",
    "\n",
    "sns.pairplot(data = df[df['PoolArea']!=0], y_vars = 'SalePrice', x_vars = 'PoolArea', height = 5).set(title='Fig 6')"
   ]
  },
  {
   "cell_type": "markdown",
   "id": "uFmNia2myh04",
   "metadata": {
    "id": "uFmNia2myh04"
   },
   "source": [
    "**Observation:** While making analysis against pool Area and sale price we find that sale price of house of 560 sq feet pool area have highest price than those houses with pool area above 560 sq feet.Fig 6 shows the illlustration of the same\n"
   ]
  },
  {
   "cell_type": "markdown",
   "id": "b1r3YmmIyhov",
   "metadata": {
    "id": "b1r3YmmIyhov"
   },
   "source": [
    "## Q.8.  Identify the maximum sale price for each category of the roof type\n",
    "\n",
    "**Method:**  Using max function to find saleprice against every roof type.\n"
   ]
  },
  {
   "cell_type": "code",
   "execution_count": 36,
   "id": "07a954c0",
   "metadata": {
    "colab": {
     "base_uri": "https://localhost:8080/",
     "height": 331
    },
    "executionInfo": {
     "elapsed": 210,
     "status": "ok",
     "timestamp": 1650815518089,
     "user": {
      "displayName": "Kimaya Koli",
      "userId": "07915138673244825604"
     },
     "user_tz": 300
    },
    "id": "07a954c0",
    "outputId": "311d5a7e-307e-40e3-a3ba-4e7595e82638"
   },
   "outputs": [
    {
     "data": {
      "text/html": [
       "<div>\n",
       "<style scoped>\n",
       "    .dataframe tbody tr th:only-of-type {\n",
       "        vertical-align: middle;\n",
       "    }\n",
       "\n",
       "    .dataframe tbody tr th {\n",
       "        vertical-align: top;\n",
       "    }\n",
       "\n",
       "    .dataframe thead th {\n",
       "        text-align: right;\n",
       "    }\n",
       "</style>\n",
       "<table border=\"1\" class=\"dataframe\">\n",
       "  <thead>\n",
       "    <tr style=\"text-align: right;\">\n",
       "      <th></th>\n",
       "      <th>SalePrice</th>\n",
       "    </tr>\n",
       "    <tr>\n",
       "      <th>RoofMatl</th>\n",
       "      <th></th>\n",
       "    </tr>\n",
       "  </thead>\n",
       "  <tbody>\n",
       "    <tr>\n",
       "      <th>WdShngl</th>\n",
       "      <td>755000</td>\n",
       "    </tr>\n",
       "    <tr>\n",
       "      <th>CompShg</th>\n",
       "      <td>745000</td>\n",
       "    </tr>\n",
       "    <tr>\n",
       "      <th>WdShake</th>\n",
       "      <td>287000</td>\n",
       "    </tr>\n",
       "    <tr>\n",
       "      <th>Tar&amp;Grv</th>\n",
       "      <td>274970</td>\n",
       "    </tr>\n",
       "    <tr>\n",
       "      <th>Membran</th>\n",
       "      <td>241500</td>\n",
       "    </tr>\n",
       "    <tr>\n",
       "      <th>Metal</th>\n",
       "      <td>180000</td>\n",
       "    </tr>\n",
       "    <tr>\n",
       "      <th>ClyTile</th>\n",
       "      <td>160000</td>\n",
       "    </tr>\n",
       "    <tr>\n",
       "      <th>Roll</th>\n",
       "      <td>137000</td>\n",
       "    </tr>\n",
       "  </tbody>\n",
       "</table>\n",
       "</div>"
      ],
      "text/plain": [
       "          SalePrice\n",
       "RoofMatl           \n",
       "WdShngl      755000\n",
       "CompShg      745000\n",
       "WdShake      287000\n",
       "Tar&Grv      274970\n",
       "Membran      241500\n",
       "Metal        180000\n",
       "ClyTile      160000\n",
       "Roll         137000"
      ]
     },
     "execution_count": 36,
     "metadata": {},
     "output_type": "execute_result"
    }
   ],
   "source": [
    "#Old Question: Impact of living area on house prices.\n",
    "#8. New Question: Identify the maximum sale price for each category of the roof type\n",
    "#Method: Using max function to find saleprice against every roof type.\n",
    "\n",
    "#       CompShg\tStandard (Composite) Shingle\n",
    "#       Membran\tMembrane\n",
    "#       Metal\tMetal\n",
    "#       Roll\tRoll\n",
    "#       Tar&Grv\tGravel & Tar\n",
    "#       WdShake\tWood Shakes\n",
    "#       ClyTile\tClay or Tile\n",
    "#       WdShngl\tWood Shingles\n",
    "\n",
    "q10 = data[['RoofMatl','SalePrice']]\n",
    "q10_1 = q10.groupby('RoofMatl').max()\n",
    "q10_1.sort_values(by='SalePrice',ascending=False)\n"
   ]
  },
  {
   "cell_type": "markdown",
   "id": "CNaZPC8qym8J",
   "metadata": {
    "id": "CNaZPC8qym8J"
   },
   "source": [
    "**Observation:** Houses with WdShngl (Wood Shingles) rooftype have maximum SalePrice where as Roll roofstyle accounted least sale price as per the output given above"
   ]
  },
  {
   "cell_type": "markdown",
   "id": "m11Nab8Vymv0",
   "metadata": {
    "id": "m11Nab8Vymv0"
   },
   "source": [
    "\n",
    "\n",
    "## Q.9.  Popularity of central air conditioning\n",
    "\n",
    "**Method:** Using count() function to get number of houses with and without air conditioning.\n",
    "\n"
   ]
  },
  {
   "cell_type": "code",
   "execution_count": 37,
   "id": "44b0ef0e",
   "metadata": {
    "colab": {
     "base_uri": "https://localhost:8080/"
    },
    "executionInfo": {
     "elapsed": 140,
     "status": "ok",
     "timestamp": 1650815610046,
     "user": {
      "displayName": "Kimaya Koli",
      "userId": "07915138673244825604"
     },
     "user_tz": 300
    },
    "id": "44b0ef0e",
    "outputId": "e2605dac-f5b7-4631-8543-c63e84493162"
   },
   "outputs": [
    {
     "name": "stdout",
     "output_type": "stream",
     "text": [
      "No. of House which have Air conditioning:  1365\n",
      "No. of House which have No Air conditioning:  95\n"
     ]
    }
   ],
   "source": [
    "#9. Popularity of central air conditioning\n",
    "#Method: Using count() function to get number of houses with and without air conditioning.\n",
    "#Observation: The number of houses with air conditioing are more than with no air conditioning.\n",
    "\n",
    "Count_AirCond = data[data['CentralAir']=='Y']['CentralAir'].count()\n",
    "Count_No_AirCond = data[data['CentralAir']=='N']['CentralAir'].count()\n",
    "print('No. of House which have Air conditioning: ',Count_AirCond)\n",
    "print('No. of House which have No Air conditioning: ',Count_No_AirCond)"
   ]
  },
  {
   "cell_type": "markdown",
   "id": "vX-dP2Ylys9K",
   "metadata": {
    "id": "vX-dP2Ylys9K"
   },
   "source": [
    "**Observation:** Central Air conditioning is a major attraction while buying the house as 1365 records out of 1460 showed there prefernece towards central air conditioning\n"
   ]
  },
  {
   "cell_type": "markdown",
   "id": "Rdibgim3ysxS",
   "metadata": {
    "id": "Rdibgim3ysxS"
   },
   "source": [
    "## Q.10. Determine the sale price based on the building type.\n",
    "\n",
    "**Method:**  Using boxplot to determine house SalePrices."
   ]
  },
  {
   "cell_type": "code",
   "execution_count": 38,
   "id": "012356be",
   "metadata": {
    "colab": {
     "base_uri": "https://localhost:8080/",
     "height": 295
    },
    "executionInfo": {
     "elapsed": 367,
     "status": "ok",
     "timestamp": 1650815783839,
     "user": {
      "displayName": "Kimaya Koli",
      "userId": "07915138673244825604"
     },
     "user_tz": 300
    },
    "id": "012356be",
    "outputId": "3df05dba-a7c6-4645-f1c3-54f734f696d6"
   },
   "outputs": [
    {
     "data": {
      "image/png": "[encoded data removed]",
      "text/plain": [
       "<Figure size 432x288 with 1 Axes>"
      ]
     },
     "metadata": {
      "needs_background": "light"
     },
     "output_type": "display_data"
    }
   ],
   "source": [
    "#10. Determine the sale price based on the building type.\n",
    "#Method: Using boxplot to determine house SalePrices.\n",
    "#Observation: Houses with Single family have maximum sale price. \n",
    "#       1Fam\tSingle-family Detached\t\n",
    "#       2FmCon\tTwo-family Conversion; originally built as one-family dwelling\n",
    "#       Duplx\tDuplex\n",
    "#       TwnhsE\tTownhouse End Unit\n",
    "#       TwnhsI\tTownhouse Inside Unit\n",
    "    \n",
    "train_df_NaN =df.copy()\n",
    "train_df =df.copy()\n",
    "\n",
    "BldgType_data = pd.concat([train_df_NaN['BldgType'],train_df_NaN['SalePrice']], axis=1)\n",
    "sns.boxplot(x=train_df_NaN['BldgType'],y=train_df_NaN['SalePrice'], data=BldgType_data).set(title='Fig 7')\n",
    "plt.show()"
   ]
  },
  {
   "cell_type": "markdown",
   "id": "2TjwuyvJz7dT",
   "metadata": {
    "id": "2TjwuyvJz7dT"
   },
   "source": [
    "**Observation:** Houses with Single Families accounted to be the highest sale price where as duplex builiding type has lowest sale price "
   ]
  },
  {
   "cell_type": "markdown",
   "id": "b5cdfd23",
   "metadata": {
    "id": "b5cdfd23"
   },
   "source": [
    "##### **Summary of model results:**\n",
    "From the above tests we specify some factors like Building type, Air conditioning, Dwelling type, Pool Area, Neighbourhood  etc which affect the sale price of a house and helps in making more informed decision to buyers in Ames town. While making the analysis against different factors we found that from the above tests some factors play crucial role while making a decision to buy a house in Ame's town such as the year in which it is built, recently build houses has highest sale price which indicates people prefers modernized houses over vintage. Central air conditioning is one of the major attraction among buyers as 93% of people prefer to buy home with central air conditioning. \n",
    "\n",
    "\n",
    "Apart from this, Ame's town can be considered as hub of single families because houses with single families have highest sale price than that of duplex building type. and least part of population prefers the big houses after obesrving  average sale price for 3 bedroom apartment(USD181056) which falls under low-medium range of sale price (highest sale price: USD755000, lowest sale price: USD34900 )"
   ]
  },
  {
   "cell_type": "markdown",
   "id": "5fa44e73",
   "metadata": {
    "id": "5fa44e73"
   },
   "source": [
    "Conclusion:As in common, imputing missing values allowed us to improve our model compared to dropping those columns.\n",
    "We got an additional boost by tracking what values had been imputed.In this paper, we built predict the price of some house given some of the house features.\n",
    "We eveluated and compared each model to determine the one with highest performannce.In this paper, we followed the data science process starting with getting the data, then cleaning and pre-processing the data,\n",
    "followed by exploring the data and  then evaluating the results and communicating them with visualizations.\n",
    "As a recommendation, we advise to use this model (or a version of it trained with more recent data) by people who want to buy a house in the area covered by the dataset to have an idea about the actual price.The model can be used also with datasets that cover different cities and areas provided that they contain the same features. \n",
    "We also suggest that people take into consideration the features."
   ]
  },
  {
   "cell_type": "markdown",
   "id": "eed8ed41",
   "metadata": {
    "id": "eed8ed41"
   },
   "source": [
    "###### Balance of involvement by group members.\n",
    "\n",
    "1.\tData pre-processing (elimination of null values)\tKimaya/Aditi\n",
    "2.\tDiscretization (numerical to Categorical)\t        Jay/Siva\n",
    "3.\tData visualisation parameters\t                    Aditi/Rami\n",
    "4.\tVisualisation of data analysis Result\t            Siva/Rami\n",
    "5.\tTo comprehend the significance of model\t            Jay/Siva/Kimaya"
   ]
  },
  {
   "cell_type": "code",
   "execution_count": null,
   "id": "c3b4642e",
   "metadata": {
    "id": "c3b4642e"
   },
   "outputs": [],
   "source": []
  }
 ],
 "metadata": {
  "colab": {
   "collapsed_sections": [],
   "name": "Group8_code+report.ipynb",
   "provenance": []
  },
  "kernelspec": {
   "display_name": "Python 3 (ipykernel)",
   "language": "python",
   "name": "python3"
  },
  "language_info": {
   "codemirror_mode": {
    "name": "ipython",
    "version": 3
   },
   "file_extension": ".py",
   "mimetype": "text/x-python",
   "name": "python",
   "nbconvert_exporter": "python",
   "pygments_lexer": "ipython3",
   "version": "3.9.7"
  }
 },
 "nbformat": 4,
 "nbformat_minor": 5
}
